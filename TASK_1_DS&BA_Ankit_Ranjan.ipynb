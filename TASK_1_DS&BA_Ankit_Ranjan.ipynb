{
  "nbformat": 4,
  "nbformat_minor": 0,
  "metadata": {
    "colab": {
      "name": "TASK_1_DS&BA_Ankit_Ranjan",
      "provenance": [],
      "collapsed_sections": []
    },
    "kernelspec": {
      "name": "python3",
      "display_name": "Python 3"
    },
    "language_info": {
      "name": "python"
    }
  },
  "cells": [
    {
      "cell_type": "markdown",
      "metadata": {
        "id": "qeCQ5N-0eF2j"
      },
      "source": [
        "## **The Sparks Foundation (GRIP) : Data Science & Business Analytics** \n",
        "![image.png](data:image/png;base64,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)\n",
        "## **TASK** : Prediction using Supervised ML\n",
        "Predict the percentage of an student based on the no. of study hours."
      ]
    },
    {
      "cell_type": "markdown",
      "metadata": {
        "id": "W00MdUQai74V"
      },
      "source": [
        "**Name :**   **Ankit Ranjan**\n",
        "\n",
        "**College : Galgotias University**"
      ]
    },
    {
      "cell_type": "markdown",
      "metadata": {
        "id": "KJ2z7PBpgGFp"
      },
      "source": [
        "**I have divided this task into 5 steps** :\n",
        "\n",
        "\n",
        "```\n",
        "Step 1 : Importing and Visualizing the dataset\n",
        "Step 2 : Preparing the Data\n",
        "Step 3 : Training and Visualizing the Model\n",
        "Step 4 : Making predcitions\n",
        "Step 5 : Evaluating the model\n",
        "```\n",
        "\n"
      ]
    },
    {
      "cell_type": "markdown",
      "metadata": {
        "id": "Zxi2ER5hjODj"
      },
      "source": [
        "---\n",
        "**STEP 1 : Importing and Visualizing the dataset**"
      ]
    },
    {
      "cell_type": "markdown",
      "metadata": {
        "id": "YcSTKGHHjF_7"
      },
      "source": [
        "Imporing the required libraries"
      ]
    },
    {
      "cell_type": "code",
      "metadata": {
        "id": "RSF0vo3ZgFYr"
      },
      "source": [
        "import pandas as pd\n",
        "import numpy as np  \n",
        "import matplotlib.pyplot as plt  \n",
        "%matplotlib inline\n",
        "import seaborn as sns"
      ],
      "execution_count": 53,
      "outputs": []
    },
    {
      "cell_type": "markdown",
      "metadata": {
        "id": "IAGBFDofjmXp"
      },
      "source": [
        "Importing the Dataset"
      ]
    },
    {
      "cell_type": "code",
      "metadata": {
        "id": "uU0tkLSqjdZ1"
      },
      "source": [
        "url = \"https://raw.githubusercontent.com/AdiPersonalWorks/Random/master/student_scores%20-%20student_scores.csv\"\n",
        "df = pd.read_csv(url)"
      ],
      "execution_count": 54,
      "outputs": []
    },
    {
      "cell_type": "markdown",
      "metadata": {
        "id": "r-RHGfL_kGyG"
      },
      "source": [
        "Observing and finding information about the dataset"
      ]
    },
    {
      "cell_type": "code",
      "metadata": {
        "colab": {
          "base_uri": "https://localhost:8080/",
          "height": 203
        },
        "id": "4kPnebtPlARe",
        "outputId": "743d0059-81a6-4222-b3a7-78e7a41ae041"
      },
      "source": [
        "df.head()\n"
      ],
      "execution_count": 55,
      "outputs": [
        {
          "output_type": "execute_result",
          "data": {
            "text/html": [
              "<div>\n",
              "<style scoped>\n",
              "    .dataframe tbody tr th:only-of-type {\n",
              "        vertical-align: middle;\n",
              "    }\n",
              "\n",
              "    .dataframe tbody tr th {\n",
              "        vertical-align: top;\n",
              "    }\n",
              "\n",
              "    .dataframe thead th {\n",
              "        text-align: right;\n",
              "    }\n",
              "</style>\n",
              "<table border=\"1\" class=\"dataframe\">\n",
              "  <thead>\n",
              "    <tr style=\"text-align: right;\">\n",
              "      <th></th>\n",
              "      <th>Hours</th>\n",
              "      <th>Scores</th>\n",
              "    </tr>\n",
              "  </thead>\n",
              "  <tbody>\n",
              "    <tr>\n",
              "      <th>0</th>\n",
              "      <td>2.5</td>\n",
              "      <td>21</td>\n",
              "    </tr>\n",
              "    <tr>\n",
              "      <th>1</th>\n",
              "      <td>5.1</td>\n",
              "      <td>47</td>\n",
              "    </tr>\n",
              "    <tr>\n",
              "      <th>2</th>\n",
              "      <td>3.2</td>\n",
              "      <td>27</td>\n",
              "    </tr>\n",
              "    <tr>\n",
              "      <th>3</th>\n",
              "      <td>8.5</td>\n",
              "      <td>75</td>\n",
              "    </tr>\n",
              "    <tr>\n",
              "      <th>4</th>\n",
              "      <td>3.5</td>\n",
              "      <td>30</td>\n",
              "    </tr>\n",
              "  </tbody>\n",
              "</table>\n",
              "</div>"
            ],
            "text/plain": [
              "   Hours  Scores\n",
              "0    2.5      21\n",
              "1    5.1      47\n",
              "2    3.2      27\n",
              "3    8.5      75\n",
              "4    3.5      30"
            ]
          },
          "metadata": {
            "tags": []
          },
          "execution_count": 55
        }
      ]
    },
    {
      "cell_type": "code",
      "metadata": {
        "colab": {
          "base_uri": "https://localhost:8080/",
          "height": 203
        },
        "id": "c60DJllmlEOr",
        "outputId": "151e7578-5eef-46de-e5e9-43df26c27c7f"
      },
      "source": [
        "df.tail()"
      ],
      "execution_count": 56,
      "outputs": [
        {
          "output_type": "execute_result",
          "data": {
            "text/html": [
              "<div>\n",
              "<style scoped>\n",
              "    .dataframe tbody tr th:only-of-type {\n",
              "        vertical-align: middle;\n",
              "    }\n",
              "\n",
              "    .dataframe tbody tr th {\n",
              "        vertical-align: top;\n",
              "    }\n",
              "\n",
              "    .dataframe thead th {\n",
              "        text-align: right;\n",
              "    }\n",
              "</style>\n",
              "<table border=\"1\" class=\"dataframe\">\n",
              "  <thead>\n",
              "    <tr style=\"text-align: right;\">\n",
              "      <th></th>\n",
              "      <th>Hours</th>\n",
              "      <th>Scores</th>\n",
              "    </tr>\n",
              "  </thead>\n",
              "  <tbody>\n",
              "    <tr>\n",
              "      <th>20</th>\n",
              "      <td>2.7</td>\n",
              "      <td>30</td>\n",
              "    </tr>\n",
              "    <tr>\n",
              "      <th>21</th>\n",
              "      <td>4.8</td>\n",
              "      <td>54</td>\n",
              "    </tr>\n",
              "    <tr>\n",
              "      <th>22</th>\n",
              "      <td>3.8</td>\n",
              "      <td>35</td>\n",
              "    </tr>\n",
              "    <tr>\n",
              "      <th>23</th>\n",
              "      <td>6.9</td>\n",
              "      <td>76</td>\n",
              "    </tr>\n",
              "    <tr>\n",
              "      <th>24</th>\n",
              "      <td>7.8</td>\n",
              "      <td>86</td>\n",
              "    </tr>\n",
              "  </tbody>\n",
              "</table>\n",
              "</div>"
            ],
            "text/plain": [
              "    Hours  Scores\n",
              "20    2.7      30\n",
              "21    4.8      54\n",
              "22    3.8      35\n",
              "23    6.9      76\n",
              "24    7.8      86"
            ]
          },
          "metadata": {
            "tags": []
          },
          "execution_count": 56
        }
      ]
    },
    {
      "cell_type": "code",
      "metadata": {
        "colab": {
          "base_uri": "https://localhost:8080/",
          "height": 455
        },
        "id": "uGUoUTCsjwJY",
        "outputId": "5daf6dde-f959-47b3-fcb6-1be0296818e4"
      },
      "source": [
        "df.info()\n",
        "df.describe()"
      ],
      "execution_count": 57,
      "outputs": [
        {
          "output_type": "stream",
          "text": [
            "<class 'pandas.core.frame.DataFrame'>\n",
            "RangeIndex: 25 entries, 0 to 24\n",
            "Data columns (total 2 columns):\n",
            " #   Column  Non-Null Count  Dtype  \n",
            "---  ------  --------------  -----  \n",
            " 0   Hours   25 non-null     float64\n",
            " 1   Scores  25 non-null     int64  \n",
            "dtypes: float64(1), int64(1)\n",
            "memory usage: 528.0 bytes\n"
          ],
          "name": "stdout"
        },
        {
          "output_type": "execute_result",
          "data": {
            "text/html": [
              "<div>\n",
              "<style scoped>\n",
              "    .dataframe tbody tr th:only-of-type {\n",
              "        vertical-align: middle;\n",
              "    }\n",
              "\n",
              "    .dataframe tbody tr th {\n",
              "        vertical-align: top;\n",
              "    }\n",
              "\n",
              "    .dataframe thead th {\n",
              "        text-align: right;\n",
              "    }\n",
              "</style>\n",
              "<table border=\"1\" class=\"dataframe\">\n",
              "  <thead>\n",
              "    <tr style=\"text-align: right;\">\n",
              "      <th></th>\n",
              "      <th>Hours</th>\n",
              "      <th>Scores</th>\n",
              "    </tr>\n",
              "  </thead>\n",
              "  <tbody>\n",
              "    <tr>\n",
              "      <th>count</th>\n",
              "      <td>25.000000</td>\n",
              "      <td>25.000000</td>\n",
              "    </tr>\n",
              "    <tr>\n",
              "      <th>mean</th>\n",
              "      <td>5.012000</td>\n",
              "      <td>51.480000</td>\n",
              "    </tr>\n",
              "    <tr>\n",
              "      <th>std</th>\n",
              "      <td>2.525094</td>\n",
              "      <td>25.286887</td>\n",
              "    </tr>\n",
              "    <tr>\n",
              "      <th>min</th>\n",
              "      <td>1.100000</td>\n",
              "      <td>17.000000</td>\n",
              "    </tr>\n",
              "    <tr>\n",
              "      <th>25%</th>\n",
              "      <td>2.700000</td>\n",
              "      <td>30.000000</td>\n",
              "    </tr>\n",
              "    <tr>\n",
              "      <th>50%</th>\n",
              "      <td>4.800000</td>\n",
              "      <td>47.000000</td>\n",
              "    </tr>\n",
              "    <tr>\n",
              "      <th>75%</th>\n",
              "      <td>7.400000</td>\n",
              "      <td>75.000000</td>\n",
              "    </tr>\n",
              "    <tr>\n",
              "      <th>max</th>\n",
              "      <td>9.200000</td>\n",
              "      <td>95.000000</td>\n",
              "    </tr>\n",
              "  </tbody>\n",
              "</table>\n",
              "</div>"
            ],
            "text/plain": [
              "           Hours     Scores\n",
              "count  25.000000  25.000000\n",
              "mean    5.012000  51.480000\n",
              "std     2.525094  25.286887\n",
              "min     1.100000  17.000000\n",
              "25%     2.700000  30.000000\n",
              "50%     4.800000  47.000000\n",
              "75%     7.400000  75.000000\n",
              "max     9.200000  95.000000"
            ]
          },
          "metadata": {
            "tags": []
          },
          "execution_count": 57
        }
      ]
    },
    {
      "cell_type": "markdown",
      "metadata": {
        "id": "gDjc7GVZlZjb"
      },
      "source": [
        "Checking if the dataset conatains any NULL or Missing Value"
      ]
    },
    {
      "cell_type": "code",
      "metadata": {
        "colab": {
          "base_uri": "https://localhost:8080/"
        },
        "id": "ktAs_43xkyyo",
        "outputId": "1746bf79-43ac-4c79-bfd7-f744dd6ba4f4"
      },
      "source": [
        "df.isnull().sum()"
      ],
      "execution_count": 58,
      "outputs": [
        {
          "output_type": "execute_result",
          "data": {
            "text/plain": [
              "Hours     0\n",
              "Scores    0\n",
              "dtype: int64"
            ]
          },
          "metadata": {
            "tags": []
          },
          "execution_count": 58
        }
      ]
    },
    {
      "cell_type": "markdown",
      "metadata": {
        "id": "INWUHQ3fls_L"
      },
      "source": [
        "Visualizing and Plotting the dataset"
      ]
    },
    {
      "cell_type": "code",
      "metadata": {
        "colab": {
          "base_uri": "https://localhost:8080/",
          "height": 557
        },
        "id": "c4RbOU3wlhEg",
        "outputId": "7fe045c9-fce4-4453-f57c-88361ee02c9a"
      },
      "source": [
        "plt.rcParams[\"figure.figsize\"] = [20,10]\n",
        "df.plot(x='Hours', y='Scores', style='*', color='Green', markersize=20)\n",
        "plt.title('Hours vs Percentage')  \n",
        "plt.xlabel('Hours Studied')  \n",
        "plt.ylabel('Percentage Score')  \n",
        "plt.grid()\n",
        "plt.show()"
      ],
      "execution_count": 59,
      "outputs": [
        {
          "output_type": "display_data",
          "data": {
            "image/png": "[encoded data removed]",
            "text/plain": [
              "<Figure size 1440x720 with 1 Axes>"
            ]
          },
          "metadata": {
            "tags": [],
            "needs_background": "light"
          }
        }
      ]
    },
    {
      "cell_type": "markdown",
      "metadata": {
        "id": "CAEhGcXcnU4I"
      },
      "source": [
        "### **From the graph above, we are able to examine that there's a linear courting between \"hours studied\" and \"percent score\". So, we are able to use the linear regression supervised system version on it to expect in addition values.**"
      ]
    },
    {
      "cell_type": "markdown",
      "metadata": {
        "id": "EX5lDjpnnsYV"
      },
      "source": [
        "Determining the corelation between the variables"
      ]
    },
    {
      "cell_type": "code",
      "metadata": {
        "colab": {
          "base_uri": "https://localhost:8080/",
          "height": 111
        },
        "id": "ag-U2c2nl_zu",
        "outputId": "59044977-33b3-4f38-8fb1-3c1020a23f0d"
      },
      "source": [
        "df.corr()"
      ],
      "execution_count": 60,
      "outputs": [
        {
          "output_type": "execute_result",
          "data": {
            "text/html": [
              "<div>\n",
              "<style scoped>\n",
              "    .dataframe tbody tr th:only-of-type {\n",
              "        vertical-align: middle;\n",
              "    }\n",
              "\n",
              "    .dataframe tbody tr th {\n",
              "        vertical-align: top;\n",
              "    }\n",
              "\n",
              "    .dataframe thead th {\n",
              "        text-align: right;\n",
              "    }\n",
              "</style>\n",
              "<table border=\"1\" class=\"dataframe\">\n",
              "  <thead>\n",
              "    <tr style=\"text-align: right;\">\n",
              "      <th></th>\n",
              "      <th>Hours</th>\n",
              "      <th>Scores</th>\n",
              "    </tr>\n",
              "  </thead>\n",
              "  <tbody>\n",
              "    <tr>\n",
              "      <th>Hours</th>\n",
              "      <td>1.000000</td>\n",
              "      <td>0.976191</td>\n",
              "    </tr>\n",
              "    <tr>\n",
              "      <th>Scores</th>\n",
              "      <td>0.976191</td>\n",
              "      <td>1.000000</td>\n",
              "    </tr>\n",
              "  </tbody>\n",
              "</table>\n",
              "</div>"
            ],
            "text/plain": [
              "           Hours    Scores\n",
              "Hours   1.000000  0.976191\n",
              "Scores  0.976191  1.000000"
            ]
          },
          "metadata": {
            "tags": []
          },
          "execution_count": 60
        }
      ]
    },
    {
      "cell_type": "markdown",
      "metadata": {
        "id": "LPH9CbpLn0df"
      },
      "source": [
        "---\n",
        "**STEP 2 : Preparing the Data**"
      ]
    },
    {
      "cell_type": "markdown",
      "metadata": {
        "id": "SPG9cUgbpP3I"
      },
      "source": [
        "In this step we are able to divide the information into \"features\" (inputs) and \"labels\" (outputs). After that we are able to cut up the entire dataset into 2 parts - trying out information and education information."
      ]
    },
    {
      "cell_type": "code",
      "metadata": {
        "colab": {
          "base_uri": "https://localhost:8080/",
          "height": 203
        },
        "id": "_IylKF6ZpNhD",
        "outputId": "c0f2e326-f2ab-48c4-f0d7-ef2f6df7fd6b"
      },
      "source": [
        "df.head()"
      ],
      "execution_count": 61,
      "outputs": [
        {
          "output_type": "execute_result",
          "data": {
            "text/html": [
              "<div>\n",
              "<style scoped>\n",
              "    .dataframe tbody tr th:only-of-type {\n",
              "        vertical-align: middle;\n",
              "    }\n",
              "\n",
              "    .dataframe tbody tr th {\n",
              "        vertical-align: top;\n",
              "    }\n",
              "\n",
              "    .dataframe thead th {\n",
              "        text-align: right;\n",
              "    }\n",
              "</style>\n",
              "<table border=\"1\" class=\"dataframe\">\n",
              "  <thead>\n",
              "    <tr style=\"text-align: right;\">\n",
              "      <th></th>\n",
              "      <th>Hours</th>\n",
              "      <th>Scores</th>\n",
              "    </tr>\n",
              "  </thead>\n",
              "  <tbody>\n",
              "    <tr>\n",
              "      <th>0</th>\n",
              "      <td>2.5</td>\n",
              "      <td>21</td>\n",
              "    </tr>\n",
              "    <tr>\n",
              "      <th>1</th>\n",
              "      <td>5.1</td>\n",
              "      <td>47</td>\n",
              "    </tr>\n",
              "    <tr>\n",
              "      <th>2</th>\n",
              "      <td>3.2</td>\n",
              "      <td>27</td>\n",
              "    </tr>\n",
              "    <tr>\n",
              "      <th>3</th>\n",
              "      <td>8.5</td>\n",
              "      <td>75</td>\n",
              "    </tr>\n",
              "    <tr>\n",
              "      <th>4</th>\n",
              "      <td>3.5</td>\n",
              "      <td>30</td>\n",
              "    </tr>\n",
              "  </tbody>\n",
              "</table>\n",
              "</div>"
            ],
            "text/plain": [
              "   Hours  Scores\n",
              "0    2.5      21\n",
              "1    5.1      47\n",
              "2    3.2      27\n",
              "3    8.5      75\n",
              "4    3.5      30"
            ]
          },
          "metadata": {
            "tags": []
          },
          "execution_count": 61
        }
      ]
    },
    {
      "cell_type": "code",
      "metadata": {
        "colab": {
          "base_uri": "https://localhost:8080/",
          "height": 203
        },
        "id": "zis5Q7_ipcZ3",
        "outputId": "cfc185db-34b0-4ab4-fb19-dd7b2808718d"
      },
      "source": [
        "df.tail()"
      ],
      "execution_count": 62,
      "outputs": [
        {
          "output_type": "execute_result",
          "data": {
            "text/html": [
              "<div>\n",
              "<style scoped>\n",
              "    .dataframe tbody tr th:only-of-type {\n",
              "        vertical-align: middle;\n",
              "    }\n",
              "\n",
              "    .dataframe tbody tr th {\n",
              "        vertical-align: top;\n",
              "    }\n",
              "\n",
              "    .dataframe thead th {\n",
              "        text-align: right;\n",
              "    }\n",
              "</style>\n",
              "<table border=\"1\" class=\"dataframe\">\n",
              "  <thead>\n",
              "    <tr style=\"text-align: right;\">\n",
              "      <th></th>\n",
              "      <th>Hours</th>\n",
              "      <th>Scores</th>\n",
              "    </tr>\n",
              "  </thead>\n",
              "  <tbody>\n",
              "    <tr>\n",
              "      <th>20</th>\n",
              "      <td>2.7</td>\n",
              "      <td>30</td>\n",
              "    </tr>\n",
              "    <tr>\n",
              "      <th>21</th>\n",
              "      <td>4.8</td>\n",
              "      <td>54</td>\n",
              "    </tr>\n",
              "    <tr>\n",
              "      <th>22</th>\n",
              "      <td>3.8</td>\n",
              "      <td>35</td>\n",
              "    </tr>\n",
              "    <tr>\n",
              "      <th>23</th>\n",
              "      <td>6.9</td>\n",
              "      <td>76</td>\n",
              "    </tr>\n",
              "    <tr>\n",
              "      <th>24</th>\n",
              "      <td>7.8</td>\n",
              "      <td>86</td>\n",
              "    </tr>\n",
              "  </tbody>\n",
              "</table>\n",
              "</div>"
            ],
            "text/plain": [
              "    Hours  Scores\n",
              "20    2.7      30\n",
              "21    4.8      54\n",
              "22    3.8      35\n",
              "23    6.9      76\n",
              "24    7.8      86"
            ]
          },
          "metadata": {
            "tags": []
          },
          "execution_count": 62
        }
      ]
    },
    {
      "cell_type": "markdown",
      "metadata": {
        "id": "a5rubnZ5pz6J"
      },
      "source": [
        "Using iloc() function which will divide the data \n",
        "\n",
        "**[ iloc() function** means that it enables us to select a particular cell of the dataset, that is, it helps us select a value that belongs to a particular row or column from a set of values of a data frame or dataset **]**"
      ]
    },
    {
      "cell_type": "code",
      "metadata": {
        "id": "45qcf6zFpfJv"
      },
      "source": [
        "X = df.iloc[:, :1].values  \n",
        "Y = df.iloc[:, 1:].values\n"
      ],
      "execution_count": 63,
      "outputs": []
    },
    {
      "cell_type": "code",
      "metadata": {
        "colab": {
          "base_uri": "https://localhost:8080/"
        },
        "id": "22uCZr4lqh9r",
        "outputId": "a4bace0c-0f46-45d6-f16f-c31aa2ac68e2"
      },
      "source": [
        "print(X)"
      ],
      "execution_count": 64,
      "outputs": [
        {
          "output_type": "stream",
          "text": [
            "[[2.5]\n",
            " [5.1]\n",
            " [3.2]\n",
            " [8.5]\n",
            " [3.5]\n",
            " [1.5]\n",
            " [9.2]\n",
            " [5.5]\n",
            " [8.3]\n",
            " [2.7]\n",
            " [7.7]\n",
            " [5.9]\n",
            " [4.5]\n",
            " [3.3]\n",
            " [1.1]\n",
            " [8.9]\n",
            " [2.5]\n",
            " [1.9]\n",
            " [6.1]\n",
            " [7.4]\n",
            " [2.7]\n",
            " [4.8]\n",
            " [3.8]\n",
            " [6.9]\n",
            " [7.8]]\n"
          ],
          "name": "stdout"
        }
      ]
    },
    {
      "cell_type": "code",
      "metadata": {
        "colab": {
          "base_uri": "https://localhost:8080/"
        },
        "id": "aWUZHLForFql",
        "outputId": "80df2e3d-8b84-4543-a4b8-9d2499c9ae76"
      },
      "source": [
        "print(Y)"
      ],
      "execution_count": 65,
      "outputs": [
        {
          "output_type": "stream",
          "text": [
            "[[21]\n",
            " [47]\n",
            " [27]\n",
            " [75]\n",
            " [30]\n",
            " [20]\n",
            " [88]\n",
            " [60]\n",
            " [81]\n",
            " [25]\n",
            " [85]\n",
            " [62]\n",
            " [41]\n",
            " [42]\n",
            " [17]\n",
            " [95]\n",
            " [30]\n",
            " [24]\n",
            " [67]\n",
            " [69]\n",
            " [30]\n",
            " [54]\n",
            " [35]\n",
            " [76]\n",
            " [86]]\n"
          ],
          "name": "stdout"
        }
      ]
    },
    {
      "cell_type": "markdown",
      "metadata": {
        "id": "dOT1T8rarSL9"
      },
      "source": [
        "Now Splitting data into training and testing data"
      ]
    },
    {
      "cell_type": "code",
      "metadata": {
        "id": "sU9KQmc2rGLM"
      },
      "source": [
        "from sklearn.model_selection import train_test_split  \n",
        "X_train, X_test, Y_train, Y_test = train_test_split(X, Y, \n",
        "                            test_size=0.2, random_state=0)"
      ],
      "execution_count": 66,
      "outputs": []
    },
    {
      "cell_type": "markdown",
      "metadata": {
        "id": "1aQtpPxorcW4"
      },
      "source": [
        "---\n",
        "**STEP 3 : Training and Visualizing the Model**"
      ]
    },
    {
      "cell_type": "markdown",
      "metadata": {
        "id": "obiePGfgr2KZ"
      },
      "source": [
        "Training"
      ]
    },
    {
      "cell_type": "code",
      "metadata": {
        "colab": {
          "base_uri": "https://localhost:8080/"
        },
        "id": "-5_Bu-wTrmW9",
        "outputId": "81f34450-8f4b-4919-b56b-3e340e5578b5"
      },
      "source": [
        "from sklearn.linear_model import LinearRegression  \n",
        "\n",
        "model = LinearRegression()  \n",
        "model.fit(X_train, Y_train)"
      ],
      "execution_count": 67,
      "outputs": [
        {
          "output_type": "execute_result",
          "data": {
            "text/plain": [
              "LinearRegression(copy_X=True, fit_intercept=True, n_jobs=None, normalize=False)"
            ]
          },
          "metadata": {
            "tags": []
          },
          "execution_count": 67
        }
      ]
    },
    {
      "cell_type": "markdown",
      "metadata": {
        "id": "18JDAYfPsPV1"
      },
      "source": [
        "Now Visualizing and Plotting for the training"
      ]
    },
    {
      "cell_type": "code",
      "metadata": {
        "colab": {
          "base_uri": "https://localhost:8080/",
          "height": 544
        },
        "id": "PRQ3YJmsr8c5",
        "outputId": "9b86c1bd-0cb2-4793-ae25-42824a95a8d7"
      },
      "source": [
        "line = model.coef_*X + model.intercept_\n",
        "plt.rcParams[\"figure.figsize\"] = [20,10]\n",
        "plt.scatter(X_train, y_train, color='Blue')\n",
        "plt.plot(X, line, color='red');\n",
        "plt.xlabel('Hours Studied')  \n",
        "plt.ylabel('Percentage Score') \n",
        "plt.grid()\n",
        "plt.show()"
      ],
      "execution_count": 68,
      "outputs": [
        {
          "output_type": "display_data",
          "data": {
            "image/png": "[encoded data removed]",
            "text/plain": [
              "<Figure size 1440x720 with 1 Axes>"
            ]
          },
          "metadata": {
            "tags": [],
            "needs_background": "light"
          }
        }
      ]
    },
    {
      "cell_type": "markdown",
      "metadata": {
        "id": "m29mzUVVssfg"
      },
      "source": [
        "Plotting the testing data"
      ]
    },
    {
      "cell_type": "code",
      "metadata": {
        "colab": {
          "base_uri": "https://localhost:8080/",
          "height": 544
        },
        "id": "sR48aYbvsgIj",
        "outputId": "e4b48471-9e9d-45eb-edf2-4571e8a84c8a"
      },
      "source": [
        "plt.rcParams[\"figure.figsize\"] = [20,10]\n",
        "plt.scatter(X_test, y_test, color='Blue')\n",
        "plt.plot(X, line, color='red');\n",
        "plt.xlabel('Hours Studied')  \n",
        "plt.ylabel('Percentage Score') \n",
        "plt.grid()\n",
        "plt.show()"
      ],
      "execution_count": 69,
      "outputs": [
        {
          "output_type": "display_data",
          "data": {
            "image/png": "[encoded data removed]",
            "text/plain": [
              "<Figure size 1440x720 with 1 Axes>"
            ]
          },
          "metadata": {
            "tags": [],
            "needs_background": "light"
          }
        }
      ]
    },
    {
      "cell_type": "markdown",
      "metadata": {
        "id": "Bq7FQ0oMtStn"
      },
      "source": [
        "---\n",
        "**STEP 4 : Making predcitions**"
      ]
    },
    {
      "cell_type": "code",
      "metadata": {
        "colab": {
          "base_uri": "https://localhost:8080/"
        },
        "id": "5B4awTZDs8fA",
        "outputId": "0c4b1ae0-d9e4-4513-c709-f8049ebe54bb"
      },
      "source": [
        "# Testing data - In Hours\n",
        "print(X_test) \n",
        " \n",
        "# Predicting the scores\n",
        "y_pred = model.predict(X_test)"
      ],
      "execution_count": 70,
      "outputs": [
        {
          "output_type": "stream",
          "text": [
            "[[1.5]\n",
            " [3.2]\n",
            " [7.4]\n",
            " [2.5]\n",
            " [5.9]]\n"
          ],
          "name": "stdout"
        }
      ]
    },
    {
      "cell_type": "markdown",
      "metadata": {
        "id": "yqB5uTR5uLkb"
      },
      "source": [
        "Comparing Actual Data VS Predicted Data"
      ]
    },
    {
      "cell_type": "code",
      "metadata": {
        "colab": {
          "base_uri": "https://localhost:8080/"
        },
        "id": "BCkVHCmHtz9V",
        "outputId": "d3df4338-c7c0-4502-8ec4-39495898bfe9"
      },
      "source": [
        "y_test"
      ],
      "execution_count": 71,
      "outputs": [
        {
          "output_type": "execute_result",
          "data": {
            "text/plain": [
              "array([[20],\n",
              "       [27],\n",
              "       [69],\n",
              "       [30],\n",
              "       [62]])"
            ]
          },
          "metadata": {
            "tags": []
          },
          "execution_count": 71
        }
      ]
    },
    {
      "cell_type": "code",
      "metadata": {
        "colab": {
          "base_uri": "https://localhost:8080/"
        },
        "id": "l2Tlb8LQuSnk",
        "outputId": "aaaaabcf-91d2-489e-fce7-16cca9b7e214"
      },
      "source": [
        "y_pred"
      ],
      "execution_count": 72,
      "outputs": [
        {
          "output_type": "execute_result",
          "data": {
            "text/plain": [
              "array([[16.88414476],\n",
              "       [33.73226078],\n",
              "       [75.357018  ],\n",
              "       [26.79480124],\n",
              "       [60.49103328]])"
            ]
          },
          "metadata": {
            "tags": []
          },
          "execution_count": 72
        }
      ]
    },
    {
      "cell_type": "markdown",
      "metadata": {
        "id": "_hk0fNvsuhkm"
      },
      "source": [
        "Testing  data"
      ]
    },
    {
      "cell_type": "code",
      "metadata": {
        "colab": {
          "base_uri": "https://localhost:8080/"
        },
        "id": "1Df8vVEOuYHB",
        "outputId": "db8bdd99-087a-49c3-b07b-d4f48892e811"
      },
      "source": [
        "hours = 9.25\n",
        "own_pred = model.predict([[hours]])\n",
        "print(\"The Predicted Score if a Person Studies for\",hours,\"Hours is\",own_pred[0])"
      ],
      "execution_count": 73,
      "outputs": [
        {
          "output_type": "stream",
          "text": [
            "The Predicted Score if a Person Studies for 9.25 Hours is [93.69173249]\n"
          ],
          "name": "stdout"
        }
      ]
    },
    {
      "cell_type": "markdown",
      "metadata": {
        "id": "ZM71kzsEvV-y"
      },
      "source": [
        "**STEP 5 - Evaluating the model**"
      ]
    },
    {
      "cell_type": "markdown",
      "metadata": {
        "id": "V27qFHxOvhW6"
      },
      "source": [
        "Evaluating the trained model by calculating its mean absolute error"
      ]
    },
    {
      "cell_type": "code",
      "metadata": {
        "colab": {
          "base_uri": "https://localhost:8080/"
        },
        "id": "Khqwhj-bu96j",
        "outputId": "a9402154-50a7-4a62-892a-1ffae7c86e8c"
      },
      "source": [
        "from sklearn import metrics  \n",
        "\n",
        "print('Mean Absolute Error:', metrics.mean_absolute_error(y_test, y_pred))"
      ],
      "execution_count": 74,
      "outputs": [
        {
          "output_type": "stream",
          "text": [
            "Mean Absolute Error: 4.183859899002982\n"
          ],
          "name": "stdout"
        }
      ]
    }
  ]
}